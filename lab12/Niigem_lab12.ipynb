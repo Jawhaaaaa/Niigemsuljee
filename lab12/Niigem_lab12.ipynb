{
  "nbformat": 4,
  "nbformat_minor": 0,
  "metadata": {
    "colab": {
      "provenance": []
    },
    "kernelspec": {
      "name": "python3",
      "display_name": "Python 3"
    },
    "language_info": {
      "name": "python"
    }
  },
  "cells": [
    {
      "cell_type": "code",
      "execution_count": null,
      "metadata": {
        "colab": {
          "base_uri": "https://localhost:8080/"
        },
        "id": "3f7KOdeMMSjk",
        "outputId": "310879b7-450f-4e4b-c0d5-6418095ea100"
      },
      "outputs": [
        {
          "output_type": "stream",
          "name": "stdout",
          "text": [
            "Collecting dynetx\n",
            "  Downloading dynetx-0.3.2-py3-none-any.whl.metadata (2.9 kB)\n",
            "Requirement already satisfied: numpy in /usr/local/lib/python3.11/dist-packages (from dynetx) (2.0.2)\n",
            "Requirement already satisfied: future in /usr/local/lib/python3.11/dist-packages (from dynetx) (1.0.0)\n",
            "Requirement already satisfied: tqdm in /usr/local/lib/python3.11/dist-packages (from dynetx) (4.67.1)\n",
            "Requirement already satisfied: networkx in /usr/local/lib/python3.11/dist-packages (from dynetx) (3.4.2)\n",
            "Requirement already satisfied: decorator in /usr/local/lib/python3.11/dist-packages (from dynetx) (4.4.2)\n",
            "Downloading dynetx-0.3.2-py3-none-any.whl (39 kB)\n",
            "Installing collected packages: dynetx\n",
            "Successfully installed dynetx-0.3.2\n"
          ]
        }
      ],
      "source": [
        "!pip install dynetx"
      ]
    },
    {
      "cell_type": "code",
      "source": [
        "import dynetx as dn\n",
        "import networkx as nx\n",
        "import random\n",
        "\n",
        "def read_net(filename):\n",
        "  g = nx.Graph()\n",
        "  with open(filename) as f:\n",
        "    f.readline()\n",
        "    for l in f:\n",
        "      l = l.split(\",\")\n",
        "      g.add_edge(l[0], l[1])\n",
        "  return g\n",
        "\n",
        "g = dn.DynGraph() # empty dynamic graph"
      ],
      "metadata": {
        "id": "MQLysKvxNZtV"
      },
      "execution_count": null,
      "outputs": []
    },
    {
      "cell_type": "code",
      "source": [
        "g = dn.DynGraph()  # хоосон динамик граф үүсгэх\n",
        "\n",
        "# 8 снапшот үүсгэх\n",
        "for t in range(1, 9):\n",
        "    er = read_net(f'/content/data/got-s{t}-edges.csv')\n",
        "    g.add_interactions_from(er.edges, t=t)"
      ],
      "metadata": {
        "collapsed": true,
        "id": "2CnZVhMKNjeW"
      },
      "execution_count": null,
      "outputs": []
    },
    {
      "cell_type": "code",
      "source": [
        "g.temporal_snapshots_ids()"
      ],
      "metadata": {
        "colab": {
          "base_uri": "https://localhost:8080/"
        },
        "id": "Ny0cysWnOa7e",
        "outputId": "6cfa32fe-f6b7-4216-c8c0-f13d05cfb7c1"
      },
      "execution_count": null,
      "outputs": [
        {
          "output_type": "execute_result",
          "data": {
            "text/plain": [
              "[1, 2, 3, 4, 5, 6, 7, 8]"
            ]
          },
          "metadata": {},
          "execution_count": 39
        }
      ]
    },
    {
      "cell_type": "code",
      "source": [
        " g1 = g.time_slice(1)"
      ],
      "metadata": {
        "id": "fVW7njQvOcq1"
      },
      "execution_count": null,
      "outputs": []
    },
    {
      "cell_type": "code",
      "source": [
        "type(g1), g1.number_of_nodes(), g1.number_of_edges()"
      ],
      "metadata": {
        "colab": {
          "base_uri": "https://localhost:8080/"
        },
        "id": "dP4UhTrNOfi9",
        "outputId": "9e29dbc8-541f-4d57-ea09-25143205868d"
      },
      "execution_count": null,
      "outputs": [
        {
          "output_type": "execute_result",
          "data": {
            "text/plain": [
              "(dynetx.classes.dyngraph.DynGraph, 0, 0)"
            ]
          },
          "metadata": {},
          "execution_count": 24
        }
      ]
    },
    {
      "cell_type": "code",
      "source": [
        "g0_3 = g.time_slice(0, 3)"
      ],
      "metadata": {
        "id": "CC4zKsLEOi4F"
      },
      "execution_count": null,
      "outputs": []
    },
    {
      "cell_type": "code",
      "source": [
        "interactions_per_snapshot = {}\n",
        "for t in g0_3.temporal_snapshots_ids():\n",
        "    interactions_per_snapshot[t] = len(g0_3.interactions(t=t))"
      ],
      "metadata": {
        "id": "Vy1qnKYWOlJ1"
      },
      "execution_count": null,
      "outputs": []
    },
    {
      "cell_type": "code",
      "source": [
        "g1_flat = nx.Graph(g1.edges())"
      ],
      "metadata": {
        "id": "lIRGdK33PYxN"
      },
      "execution_count": null,
      "outputs": []
    },
    {
      "cell_type": "code",
      "source": [
        "import networkx as nx\n",
        "type(g1_flat), g1_flat.number_of_nodes(), g1_flat.number_of_edges()"
      ],
      "metadata": {
        "colab": {
          "base_uri": "https://localhost:8080/"
        },
        "id": "6LxBw5PZPagm",
        "outputId": "e22f0599-7eab-40f1-db1e-9ee6493a98c9"
      },
      "execution_count": null,
      "outputs": [
        {
          "output_type": "execute_result",
          "data": {
            "text/plain": [
              "(networkx.classes.graph.Graph, 126, 549)"
            ]
          },
          "metadata": {},
          "execution_count": 32
        }
      ]
    },
    {
      "cell_type": "code",
      "source": [
        "r = g.inter_event_time_distribution()\n",
        "print(f\"Number interactions: temporal distance\\t{r}\")"
      ],
      "metadata": {
        "colab": {
          "base_uri": "https://localhost:8080/"
        },
        "id": "hsN6LVs0Pd0w",
        "outputId": "f1a8da81-44cc-4bca-d0b4-9983ac633451"
      },
      "execution_count": null,
      "outputs": [
        {
          "output_type": "stream",
          "name": "stdout",
          "text": [
            "Number interactions: temporal distance\t{0: 3307, 1: 8}\n"
          ]
        }
      ]
    },
    {
      "cell_type": "code",
      "source": [
        "r = g.inter_event_time_distribution(\"ARYA\")\n",
        "print(f\"Number interactions: temporal distance\\t{r}\")"
      ],
      "metadata": {
        "colab": {
          "base_uri": "https://localhost:8080/"
        },
        "id": "GUUU2lCFXM0V",
        "outputId": "242752c4-d1da-48af-e30c-4f4aba8c2c2a"
      },
      "execution_count": null,
      "outputs": [
        {
          "output_type": "stream",
          "name": "stdout",
          "text": [
            "Number interactions: temporal distance\t{0: 137, 1: 8}\n"
          ]
        }
      ]
    },
    {
      "cell_type": "code",
      "source": [
        "u = 'JON'\n",
        "v = 'ARYA'"
      ],
      "metadata": {
        "id": "cN5Id0wcXsd9"
      },
      "execution_count": null,
      "outputs": []
    },
    {
      "cell_type": "code",
      "source": [
        "r = g.inter_event_time_distribution(u, v)\n",
        "print(f\"Number interactions: temporal distance\\t{r}\")"
      ],
      "metadata": {
        "colab": {
          "base_uri": "https://localhost:8080/"
        },
        "id": "fTsadryZXt2t",
        "outputId": "24e0cfd0-fd85-4ba0-dfb4-a22a6fd8ed17"
      },
      "execution_count": null,
      "outputs": [
        {
          "output_type": "stream",
          "name": "stdout",
          "text": [
            "Number interactions: temporal distance\t{6: 1, 1: 1}\n"
          ]
        }
      ]
    },
    {
      "cell_type": "code",
      "source": [
        "g.degree(t=2)['ARYA'] # degree of node 0 at time t=2"
      ],
      "metadata": {
        "colab": {
          "base_uri": "https://localhost:8080/"
        },
        "id": "1hQDhb3zYIr4",
        "outputId": "e4163daa-83fe-45c0-e3dc-1c0ffc0c1c8b"
      },
      "execution_count": null,
      "outputs": [
        {
          "output_type": "execute_result",
          "data": {
            "text/plain": [
              "27"
            ]
          },
          "metadata": {},
          "execution_count": 45
        }
      ]
    },
    {
      "cell_type": "code",
      "source": [
        "g.coverage()"
      ],
      "metadata": {
        "colab": {
          "base_uri": "https://localhost:8080/"
        },
        "id": "l-zvnxliYi7m",
        "outputId": "6a1db886-8a5f-4aa4-badc-ad065b98d86e"
      },
      "execution_count": null,
      "outputs": [
        {
          "output_type": "execute_result",
          "data": {
            "text/plain": [
              "0.2977216748768473"
            ]
          },
          "metadata": {},
          "execution_count": 46
        }
      ]
    },
    {
      "cell_type": "code",
      "source": [
        "g.node_contribution(\"BERIC\")"
      ],
      "metadata": {
        "colab": {
          "base_uri": "https://localhost:8080/"
        },
        "id": "4DI7EnTEZJul",
        "outputId": "5e40573a-3ae6-47f8-89aa-ebb651cfefb5"
      },
      "execution_count": null,
      "outputs": [
        {
          "output_type": "execute_result",
          "data": {
            "text/plain": [
              "0.625"
            ]
          },
          "metadata": {},
          "execution_count": 47
        }
      ]
    },
    {
      "cell_type": "code",
      "source": [
        "g.edge_contribution(u, v)"
      ],
      "metadata": {
        "colab": {
          "base_uri": "https://localhost:8080/"
        },
        "id": "h1Dmk-sAaIyf",
        "outputId": "1e469258-43b4-41cc-9e29-8b179c989c00"
      },
      "execution_count": null,
      "outputs": [
        {
          "output_type": "execute_result",
          "data": {
            "text/plain": [
              "0.375"
            ]
          },
          "metadata": {},
          "execution_count": 48
        }
      ]
    },
    {
      "cell_type": "code",
      "source": [
        "g.node_pair_uniformity(u, v)"
      ],
      "metadata": {
        "colab": {
          "base_uri": "https://localhost:8080/"
        },
        "id": "-4tUa1eNck1X",
        "outputId": "2a4db839-2857-4506-8c3a-72bc2f9ee781"
      },
      "execution_count": null,
      "outputs": [
        {
          "output_type": "execute_result",
          "data": {
            "text/plain": [
              "1.0"
            ]
          },
          "metadata": {},
          "execution_count": 49
        }
      ]
    },
    {
      "cell_type": "code",
      "source": [
        "g.density()"
      ],
      "metadata": {
        "colab": {
          "base_uri": "https://localhost:8080/"
        },
        "id": "f2bq6vXce_YJ",
        "outputId": "8b84b768-06fd-4679-8230-afa07b8de977"
      },
      "execution_count": null,
      "outputs": [
        {
          "output_type": "execute_result",
          "data": {
            "text/plain": [
              "0.06686633244351846"
            ]
          },
          "metadata": {},
          "execution_count": 50
        }
      ]
    },
    {
      "cell_type": "code",
      "source": [
        " g.node_density(u)"
      ],
      "metadata": {
        "colab": {
          "base_uri": "https://localhost:8080/"
        },
        "id": "JGF6EOWpfVVp",
        "outputId": "345540a9-64c5-4963-a1bf-6dd65e8f1cf4"
      },
      "execution_count": null,
      "outputs": [
        {
          "output_type": "execute_result",
          "data": {
            "text/plain": [
              "0.2295760082730093"
            ]
          },
          "metadata": {},
          "execution_count": 51
        }
      ]
    },
    {
      "cell_type": "code",
      "source": [
        "g.pair_density(u, v)"
      ],
      "metadata": {
        "colab": {
          "base_uri": "https://localhost:8080/"
        },
        "id": "uEgBBQs3fkRC",
        "outputId": "7e8c683d-00b2-4938-bd08-ee22f4101ab3"
      },
      "execution_count": null,
      "outputs": [
        {
          "output_type": "execute_result",
          "data": {
            "text/plain": [
              "0.375"
            ]
          },
          "metadata": {},
          "execution_count": 52
        }
      ]
    },
    {
      "cell_type": "code",
      "source": [
        "for t in g.temporal_snapshots_ids():\n",
        "  print(f\"{t}\\t{g.snapshot_density(t)}\")"
      ],
      "metadata": {
        "colab": {
          "base_uri": "https://localhost:8080/"
        },
        "id": "5RHOMVRHgAMh",
        "outputId": "98537849-9226-4488-82ac-c9d46b6430fa"
      },
      "execution_count": null,
      "outputs": [
        {
          "output_type": "stream",
          "name": "stdout",
          "text": [
            "1\t0.06971428571428571\n",
            "2\t0.05886627906976744\n",
            "3\t0.06608969315499606\n",
            "4\t0.04535563715490276\n",
            "5\t0.05640222190571144\n",
            "6\t0.05404055538907202\n",
            "7\t0.1271604938271605\n",
            "8\t0.20473898556090336\n"
          ]
        }
      ]
    },
    {
      "cell_type": "code",
      "source": [
        "import dynetx.algorithms as al\n",
        "paths = al.time_respecting_paths(g, \"GENDRY\", \"GREY_WORM\", start=1, end=5)"
      ],
      "metadata": {
        "id": "dTfmEt1mgUnJ"
      },
      "execution_count": null,
      "outputs": []
    },
    {
      "cell_type": "code",
      "source": [
        "p = paths[0] # example of identified paths. Each list element is a tuple of the form (fr\n",
        "p\n"
      ],
      "metadata": {
        "colab": {
          "base_uri": "https://localhost:8080/"
        },
        "id": "qlmOQkbzgY0q",
        "outputId": "536eb581-801d-4f56-893c-6a8f073d44fd"
      },
      "execution_count": null,
      "outputs": [
        {
          "output_type": "execute_result",
          "data": {
            "text/plain": [
              "[]"
            ]
          },
          "metadata": {},
          "execution_count": 55
        }
      ]
    }
  ]
}