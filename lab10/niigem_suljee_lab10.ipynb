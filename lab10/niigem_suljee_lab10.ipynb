{
  "nbformat": 4,
  "nbformat_minor": 0,
  "metadata": {
    "colab": {
      "provenance": []
    },
    "kernelspec": {
      "name": "python3",
      "display_name": "Python 3"
    },
    "language_info": {
      "name": "python"
    }
  },
  "cells": [
    {
      "cell_type": "code",
      "execution_count": null,
      "metadata": {
        "colab": {
          "base_uri": "https://localhost:8080/"
        },
        "id": "DwX_QIvyJng-",
        "outputId": "d74ad903-c05a-4e10-a903-9306c058fba2"
      },
      "outputs": [
        {
          "output_type": "stream",
          "name": "stdout",
          "text": [
            "Collecting dynetx\n",
            "  Downloading dynetx-0.3.2-py3-none-any.whl.metadata (2.9 kB)\n",
            "Requirement already satisfied: numpy in /usr/local/lib/python3.11/dist-packages (from dynetx) (2.0.2)\n",
            "Requirement already satisfied: future in /usr/local/lib/python3.11/dist-packages (from dynetx) (1.0.0)\n",
            "Requirement already satisfied: tqdm in /usr/local/lib/python3.11/dist-packages (from dynetx) (4.67.1)\n",
            "Requirement already satisfied: networkx in /usr/local/lib/python3.11/dist-packages (from dynetx) (3.4.2)\n",
            "Requirement already satisfied: decorator in /usr/local/lib/python3.11/dist-packages (from dynetx) (4.4.2)\n",
            "Downloading dynetx-0.3.2-py3-none-any.whl (39 kB)\n",
            "Installing collected packages: dynetx\n",
            "Successfully installed dynetx-0.3.2\n"
          ]
        }
      ],
      "source": [
        "pip install dynetx"
      ]
    },
    {
      "cell_type": "code",
      "source": [
        "import dynetx as dn\n",
        "import dynetx.algorithms as al\n",
        "import networkx as nx\n",
        "\n",
        "# Динамик граф үүсгэх\n",
        "g = dn.DynGraph()\n",
        "\n",
        "# Ирмэгүүдийг цаг хугацааны тэмдэглэгээтэй нэмэх (логик дараалалтай)\n",
        "g.add_interaction(\"A\", \"B\", t=1)  # t=1: A -> B\n",
        "g.add_interaction(\"B\", \"C\", t=2)  # t=2: B -> C\n",
        "g.add_interaction(\"C\", \"E\", t=3)  # t=3: C -> E\n",
        "g.add_interaction(\"A\", \"D\", t=2)  # t=2: A -> D\n",
        "g.add_interaction(\"D\", \"E\", t=4)  # t=4: D -> E\n",
        "g.add_interaction(\"A\", \"E\", t=5)  # t=5: A -> E (шууд зам)\n",
        "\n",
        "# Графийн бүтцийг шалгах\n",
        "print(\"Бүх ирмэгүүд:\", g.edges())\n",
        "\n",
        "# Тодорхой нэг снапшот (t=1) дээрх статик граф\n",
        "snapshot_t1 = g.time_slice(1)\n",
        "print(\"Снапшот t=1 дээрх оройнууд:\", snapshot_t1.nodes())\n",
        "print(\"Снапшот t=1 дээрх ирмэгүүд:\", snapshot_t1.edges())\n",
        "\n",
        "# Глобал хэмжээнд замуудыг олох (A-с E хүртэл, t=1-ээс t=5 хүртэл)\n",
        "start_node = \"A\"\n",
        "end_node = \"E\"\n",
        "start_time = 1\n",
        "end_time = 5\n",
        "paths = al.time_respecting_paths(g, start_node, end_node, start=start_time, end=end_time)\n",
        "\n",
        "print(f\"\\n{start_node}-с {end_node} хүртэлх цаг хугацааг харгалзсан замууд:\")\n",
        "for i, path in enumerate(paths):\n",
        "    print(f\"Зам {i+1}: {path}\")\n",
        "\n",
        "# Замуудын шинжилгээ хийх функц\n",
        "def analyze_paths(paths):\n",
        "    if not paths:\n",
        "        print(\"\\nЗамуудын шинжилгээ: Зам олдсонгүй\")\n",
        "        return\n",
        "\n",
        "    # Цагийн ялгааг авах функц\n",
        "    def get_time_diff(path):\n",
        "        if isinstance(path, list) and all(isinstance(p, tuple) and len(p) == 3 for p in path):\n",
        "            return path[-1][2] - path[0][2]\n",
        "        return float('inf')  # Формат буруу бол хамгийн их утга\n",
        "\n",
        "    # Замын дуусах цагийг олох\n",
        "    def get_end_time(path):\n",
        "        if isinstance(path, list) and all(isinstance(p, tuple) and len(p) == 3 for p in path):\n",
        "            return path[-1][2]\n",
        "        return float('inf')\n",
        "\n",
        "    # Замын хамгийн богино, хурдан, тэргүүн замыг ялгах\n",
        "    shortest_path = min(paths, key=len)\n",
        "    fastest_path = min(paths, key=get_time_diff)\n",
        "    foremost_path = min(paths, key=get_end_time)\n",
        "\n",
        "    # Замуудын шинжилгээ гаргах\n",
        "    print(\"\\nЗамуудын шинжилгээ:\")\n",
        "    print(f\"Shortest (хамгийн богино): {shortest_path}\")\n",
        "    print(f\"Fastest (хамгийн хурдан): {fastest_path}\")\n",
        "    print(f\"Foremost (хамгийн эрт ирэх): {foremost_path}\")\n",
        "\n",
        "    # Хамгийн богино зам дээрх хурдны ялгаа\n",
        "    shortest_paths = [p for p in paths if len(p) == len(shortest_path)]\n",
        "    fastest_shortest = min(shortest_paths, key=get_time_diff)\n",
        "\n",
        "    # Хамгийн хурдан зам дээрх хамгийн богино зам\n",
        "    fastest_paths = [p for p in paths if get_time_diff(p) == get_time_diff(fastest_path)]\n",
        "    shortest_fastest = min(fastest_paths, key=len)\n",
        "\n",
        "    # Замын шинжилгээний үр дүн\n",
        "    print(f\"Fastest Shortest: {fastest_shortest}\")\n",
        "    print(f\"Shortest Fastest: {shortest_fastest}\")\n",
        "\n",
        "# Шинжилгээг гүйцэтгэх\n",
        "analyze_paths(paths)"
      ],
      "metadata": {
        "colab": {
          "base_uri": "https://localhost:8080/"
        },
        "id": "cAALSM6RlSVL",
        "outputId": "0252403d-9c12-4492-8a61-2d648cbebcc1"
      },
      "execution_count": null,
      "outputs": [
        {
          "output_type": "stream",
          "name": "stdout",
          "text": [
            "Бүх ирмэгүүд: [('A', 'B'), ('A', 'D'), ('A', 'E'), ('B', 'C'), ('C', 'E'), ('E', 'D')]\n",
            "Снапшот t=1 дээрх оройнууд: ['A', 'B']\n",
            "Снапшот t=1 дээрх ирмэгүүд: [('A', 'B')]\n",
            "\n",
            "A-с E хүртэлх цаг хугацааг харгалзсан замууд:\n",
            "Зам 1: ('A', 'E')\n",
            "\n",
            "Замуудын шинжилгээ:\n",
            "Shortest (хамгийн богино): ('A', 'E')\n",
            "Fastest (хамгийн хурдан): ('A', 'E')\n",
            "Foremost (хамгийн эрт ирэх): ('A', 'E')\n",
            "Fastest Shortest: ('A', 'E')\n",
            "Shortest Fastest: ('A', 'E')\n"
          ]
        }
      ]
    }
  ]
}