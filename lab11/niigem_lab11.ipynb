{
  "nbformat": 4,
  "nbformat_minor": 0,
  "metadata": {
    "colab": {
      "provenance": []
    },
    "kernelspec": {
      "name": "python3",
      "display_name": "Python 3"
    },
    "language_info": {
      "name": "python"
    }
  },
  "cells": [
    {
      "cell_type": "markdown",
      "source": [
        "**1.LinkPred санг суулгах (to top)**\n",
        "\n",
        "Эхний алхам бол, linkpred санг суулгах бөгөөд амжилттай суусан тохиолдолд уг сангын функцүүдтэй\n",
        "ажиллах боломжтой болно.\n",
        "Санг суулгахдаа pip ашиглаж болно.\n",
        "\n",
        "> Add blockquote\n",
        "\n"
      ],
      "metadata": {
        "id": "_J1tCmBuNgll"
      }
    },
    {
      "cell_type": "code",
      "execution_count": null,
      "metadata": {
        "colab": {
          "base_uri": "https://localhost:8080/"
        },
        "collapsed": true,
        "id": "XrBEfor5JnYS",
        "outputId": "913be21a-9480-48df-8744-bbe80e549140"
      },
      "outputs": [
        {
          "output_type": "stream",
          "name": "stdout",
          "text": [
            "Collecting linkpred\n",
            "  Downloading linkpred-0.6-py3-none-any.whl.metadata (5.5 kB)\n",
            "Requirement already satisfied: matplotlib>=3.5 in /usr/local/lib/python3.11/dist-packages (from linkpred) (3.10.0)\n",
            "Requirement already satisfied: networkx>=3.0 in /usr/local/lib/python3.11/dist-packages (from linkpred) (3.4.2)\n",
            "Requirement already satisfied: numpy>=1.23 in /usr/local/lib/python3.11/dist-packages (from linkpred) (2.0.2)\n",
            "Requirement already satisfied: pyyaml>=3.0 in /usr/local/lib/python3.11/dist-packages (from linkpred) (6.0.2)\n",
            "Requirement already satisfied: scipy>=1.10 in /usr/local/lib/python3.11/dist-packages (from linkpred) (1.14.1)\n",
            "Collecting smokesignal>=0.7 (from linkpred)\n",
            "  Downloading smokesignal-0.7.0.tar.gz (5.9 kB)\n",
            "  Preparing metadata (setup.py) ... \u001b[?25l\u001b[?25hdone\n",
            "Requirement already satisfied: contourpy>=1.0.1 in /usr/local/lib/python3.11/dist-packages (from matplotlib>=3.5->linkpred) (1.3.1)\n",
            "Requirement already satisfied: cycler>=0.10 in /usr/local/lib/python3.11/dist-packages (from matplotlib>=3.5->linkpred) (0.12.1)\n",
            "Requirement already satisfied: fonttools>=4.22.0 in /usr/local/lib/python3.11/dist-packages (from matplotlib>=3.5->linkpred) (4.57.0)\n",
            "Requirement already satisfied: kiwisolver>=1.3.1 in /usr/local/lib/python3.11/dist-packages (from matplotlib>=3.5->linkpred) (1.4.8)\n",
            "Requirement already satisfied: packaging>=20.0 in /usr/local/lib/python3.11/dist-packages (from matplotlib>=3.5->linkpred) (24.2)\n",
            "Requirement already satisfied: pillow>=8 in /usr/local/lib/python3.11/dist-packages (from matplotlib>=3.5->linkpred) (11.1.0)\n",
            "Requirement already satisfied: pyparsing>=2.3.1 in /usr/local/lib/python3.11/dist-packages (from matplotlib>=3.5->linkpred) (3.2.3)\n",
            "Requirement already satisfied: python-dateutil>=2.7 in /usr/local/lib/python3.11/dist-packages (from matplotlib>=3.5->linkpred) (2.8.2)\n",
            "Requirement already satisfied: six>=1.5 in /usr/local/lib/python3.11/dist-packages (from python-dateutil>=2.7->matplotlib>=3.5->linkpred) (1.17.0)\n",
            "Downloading linkpred-0.6-py3-none-any.whl (28 kB)\n",
            "Building wheels for collected packages: smokesignal\n",
            "  Building wheel for smokesignal (setup.py) ... \u001b[?25l\u001b[?25hdone\n",
            "  Created wheel for smokesignal: filename=smokesignal-0.7.0-py3-none-any.whl size=6030 sha256=f7f672dd17d526653b0894d55b9e4f8ee8d8c6026553ef2a8ce25bbfe7e5dda2\n",
            "  Stored in directory: /root/.cache/pip/wheels/dd/61/b2/4d7520f5b9b3e236bdef080edef4420f2203711b8f9279015f\n",
            "Successfully built smokesignal\n",
            "Installing collected packages: smokesignal, linkpred\n",
            "Successfully installed linkpred-0.6 smokesignal-0.7.0\n"
          ]
        }
      ],
      "source": [
        "!pip install linkpred"
      ]
    },
    {
      "cell_type": "markdown",
      "source": [
        "**2.Таамаглах үйл явцын дараалал**\n",
        "\n",
        "linkpred нь дараах 3-н үе шаттайгаар Холбоосыг таамаглах үйл явцыг биелүүлдэг.\n",
        "1.Сүлжээгээ байгуулах - Network Loading\n",
        "2.Таамаглагчаа сонгох, аппликейшн - Predictor selection and application\n",
        "3.Үр дүн үнэлэх - Results evaluation\n",
        "\n",
        "**2.A Файлаас уншиж сүлжээг байгуулах**\n",
        "\n",
        "Эхлээд, linkpred нь файлаас графыг уншихыг шаарддаг. Бид энэ удаа Game of Thrones Season 6\n",
        "(Хаадын тоглоом цуврал)-ийн ирмэгүүдийг мэдээллийг ашиглана."
      ],
      "metadata": {
        "id": "xECYjrDiNvBa"
      }
    },
    {
      "cell_type": "code",
      "source": [
        "%matplotlib inline\n",
        "import matplotlib.pyplot as plt\n",
        "import linkpred\n",
        "import networkx as nx\n",
        "def read_net_w(filename):\n",
        "  g = nx.Graph()\n",
        "  with open(filename) as f:\n",
        "    f.readline()\n",
        "    for l in f:\n",
        "      l = l.split(\",\")\n",
        "      g.add_edge(l[0], l[1], weight=int(l[2]))\n",
        "  return g"
      ],
      "metadata": {
        "id": "pIk_WV-3JtWa"
      },
      "execution_count": null,
      "outputs": []
    },
    {
      "cell_type": "code",
      "source": [
        "g = read_net_w(f'/content/got-data/got-s6-edges.csv')"
      ],
      "metadata": {
        "id": "tzk1qT5LLEJD"
      },
      "execution_count": null,
      "outputs": []
    },
    {
      "cell_type": "markdown",
      "source": [
        "**2.B Удирдлагагүй сургалтын таамаглагч тооцоолох**\n",
        "\n",
        "linkpred нь 4 бүлэг удирдлагагүй сургалтын таамаглагчид өргөн хэрэглэгдэж байна. Үүнд:\n",
        "\n",
        "**Neighborhood:**\n",
        "\n",
        "*   AdamicAdar, AssociationStrength, CommonNeighbours, Cosine, DegreeProduct,\n",
        "Jaccard, MaxOverlap, MinOverlap, NMeasure, Pearson,ResourceAllocation\n",
        "\n",
        "**Paths:**\n",
        "\n",
        "*   GraphDistance, Katz\n",
        "\n",
        "**Ranking:**\n",
        "\n",
        "*   SimRank, RootedPageRank\n",
        "\n",
        "**Miscellanea:**\n",
        "\n",
        "*   Community, Copy, Random\n",
        "\n",
        "Энэ лаборатороор бид цөөн хэдэн аргыг орууллаа.\n",
        "Энгийн ойлгомжтой байлгахын тулд бид сонгогдсон таамаглагч бүрт топ-5 нь үр дүнг харууллаа.\n",
        "\n",
        "**2.B.1 Neighborhood**\n",
        "\n",
        "Эхний хэсэг бүлэг таамаглагч бол зангилаа бүрийн хувьд холбогдох боломжтой хос оройг уг хоёр оройн\n",
        "хөрш оройнуудтайгаа хэр хүчтэй сул холбогдсон байдлаас үүдэн холбоосыг\n",
        "үүсэх эсэх магадлалаар олдог.\n",
        "Энэ төрлийн таамаглагчид нь дараах асуултанд хариулт олохыг хичээдэг. How many friend we have to\n",
        "share in order to become friends?\n",
        "\n",
        "**Common Neighbors**\n",
        "\n",
        "Илүү олон дундын найзуудтай бол бид найз болох магадлал өндөр байна."
      ],
      "metadata": {
        "id": "VOjAXD99OAX6"
      }
    },
    {
      "cell_type": "code",
      "source": [
        "cn = linkpred.predictors.CommonNeighbours(g, excluded=g.edges())\n",
        "cn_results = cn.predict()\n",
        "\n",
        "top = cn_results.top(5)\n",
        "for edge, score in top.items():\n",
        "  print(edge, score)\n"
      ],
      "metadata": {
        "colab": {
          "base_uri": "https://localhost:8080/"
        },
        "id": "M1-uVqphLRLZ",
        "outputId": "bd857dc6-93fd-48e7-c587-601c324a49b9"
      },
      "execution_count": null,
      "outputs": [
        {
          "output_type": "stream",
          "name": "stdout",
          "text": [
            "TOMMEN - MACE 8.0\n",
            "NED - LADY_CRANE 8.0\n",
            "NED - CLARENZO 8.0\n",
            "MARGAERY - IZEMBARO 8.0\n",
            "MARGAERY - ARYA 8.0\n"
          ]
        }
      ]
    },
    {
      "cell_type": "markdown",
      "source": [
        "**Jaccard**\n",
        "\n",
        "Топологи бүтэц болон аттрибутуудын ижил төсөөтэй байдал нь найз болох эсэхийг тодорхойлно."
      ],
      "metadata": {
        "id": "5fOM0u54Oi1K"
      }
    },
    {
      "cell_type": "code",
      "source": [
        "jc = linkpred.predictors.Jaccard(g, excluded=g.edges())\n",
        "jc_results = jc.predict()\n",
        "\n",
        "top = jc_results.top(5)\n",
        "for edge, score in top.items():\n",
        "  print(edge, score)\n"
      ],
      "metadata": {
        "colab": {
          "base_uri": "https://localhost:8080/"
        },
        "id": "agr4vraZLY2g",
        "outputId": "7e6361b0-e63d-49e5-db68-e154afc062e9"
      },
      "execution_count": null,
      "outputs": [
        {
          "output_type": "stream",
          "name": "stdout",
          "text": [
            "RED_PRIEST - KINVARA 1.0\n",
            "LITTLE_SAM - DICKON 1.0\n",
            "TOMMEN - MACE 0.7272727272727273\n",
            "JOFFREY - CAMELLO 0.7272727272727273\n",
            "OLD_NAN - BENJEN 0.7142857142857143\n"
          ]
        }
      ]
    },
    {
      "cell_type": "markdown",
      "source": [
        "**Adamic Adar**\n",
        "\n",
        "Бидний дундын найзын тоо нь биднийг найз болох эсэхийг тодорхойлоход ашиглагдана.\n"
      ],
      "metadata": {
        "id": "6An-YVUlOlLy"
      }
    },
    {
      "cell_type": "code",
      "source": [
        "aa = linkpred.predictors.AdamicAdar(g, excluded=g.edges())\n",
        "aa_results = aa.predict()\n",
        "\n",
        "top = aa_results.top(5)\n",
        "for edge, score in top.items():\n",
        "  print(edge, score)"
      ],
      "metadata": {
        "colab": {
          "base_uri": "https://localhost:8080/"
        },
        "id": "gHZ7JsB0LfCl",
        "outputId": "6b2b9813-3805-4add-da13-be15626c62a0"
      },
      "execution_count": null,
      "outputs": [
        {
          "output_type": "stream",
          "name": "stdout",
          "text": [
            "TOMMEN - MACE 3.1875572810307893\n",
            "NED - LADY_CRANE 3.126371165725784\n",
            "NED - CLARENZO 3.126371165725784\n",
            "SANSA - ROBB 3.0966443151332466\n",
            "JOFFREY - CAMELLO 2.8944937119329133\n"
          ]
        }
      ]
    },
    {
      "cell_type": "markdown",
      "source": [
        "**2.B.2 Paths**\n",
        "\n",
        "Хоёрдогч төрлийн таамаглагчид нь хос оройн хоорондын зайнаас хамаарч тэд ирээдүйд холбогдох\n",
        "эсэхийг магадлаар боддог.\n",
        "Энэ төрлийн таамаглагчид нь дараах асуултад хариулт олохыг хичээдэг: How distant are we?\n",
        "\n",
        "**Katz**\n",
        "\n",
        "Katz computes the weighted sum over all the paths between two nodes."
      ],
      "metadata": {
        "id": "cQLwf0U4OqqD"
      }
    },
    {
      "cell_type": "code",
      "source": [
        "kz = linkpred.predictors.Katz(g, excluded=g.edges())\n",
        "kz_results = kz.predict()\n",
        "\n",
        "top = kz_results.top(5)\n",
        "for edge, score in top.items():\n",
        "  print(edge, score)\n"
      ],
      "metadata": {
        "colab": {
          "base_uri": "https://localhost:8080/"
        },
        "id": "vPTFaakhLlam",
        "outputId": "4e99fdf8-4356-4ab7-8a3b-770abe389844"
      },
      "execution_count": null,
      "outputs": [
        {
          "output_type": "stream",
          "name": "stdout",
          "text": [
            "\n",
            "LADY_CRANE - JAQEN 0.005571576860773001\n",
            "SANSA - ALLISER_THORNE 0.004234378077202\n",
            "TYRION - DAARIO 0.004145905054793999\n",
            "CERSEI - BRIENNE 0.0038862606857720003\n",
            "MELISANDRE - LYANNA_MORMONT 0.0035937193855959996\n"
          ]
        }
      ]
    },
    {
      "cell_type": "markdown",
      "source": [
        "**Graph Distance**\n",
        "\n",
        "Графын зай буюу Distance нь хоёр оройн хоорондын богино замын уртаар тодорхойлогдоно."
      ],
      "metadata": {
        "id": "TLPABIStOvT9"
      }
    },
    {
      "cell_type": "code",
      "source": [
        "gd = linkpred.predictors.GraphDistance(g, excluded=g.edges())\n",
        "gd_results = gd.predict()\n",
        "\n",
        "top = gd_results.top(5)\n",
        "for edge, score in top.items():\n",
        "  print(edge, score)"
      ],
      "metadata": {
        "colab": {
          "base_uri": "https://localhost:8080/"
        },
        "id": "k4cX5KVZLqgI",
        "outputId": "4a668499-508c-4977-99af-fe9406228ae2"
      },
      "execution_count": null,
      "outputs": [
        {
          "output_type": "stream",
          "name": "stdout",
          "text": [
            "LADY_CRANE - JAQEN 36.136054421768705\n",
            "TYRION - DAARIO 30.29268292682927\n",
            "CERSEI - BRIENNE 28.44827586206896\n",
            "MELISANDRE - LITTLEFINGER 23.427491305005294\n",
            "CERSEI - BRONN 23.294117647058822\n"
          ]
        }
      ]
    },
    {
      "cell_type": "markdown",
      "source": [
        "**2.B.3 Ranking**\n",
        "\n",
        "Гуравдагч бүлэг таамаглагчид нь граф дахь хос оройнуудын байрлалаас хамаарч холбогдох магадлалыг\n",
        "тооцоолно.\n",
        "Дараах асуултанд хариулж буй байдлаас хамаарч тодорхойлогдоно: *How similar are we?\n",
        "\n",
        "**SimRank**\n",
        "\n",
        "Хоёр зангилаа холбоосоор холбогдохын тул тэдгээрийн хөрш оройнууд ижил төсөөтэй байх хэрэгтэй."
      ],
      "metadata": {
        "id": "z5PvTY7sOyI7"
      }
    },
    {
      "cell_type": "code",
      "source": [
        "simrank = linkpred.predictors.SimRank(g, excluded=g.edges())\n",
        "simrank_results = simrank.predict(c=0.5)\n",
        "\n",
        "top = simrank_results.top(5)\n",
        "for edge, score in top.items():\n",
        "  print(edge, score)"
      ],
      "metadata": {
        "colab": {
          "base_uri": "https://localhost:8080/"
        },
        "id": "mXjtwq-aLx4v",
        "outputId": "9913d76a-8928-43e4-e891-3791b8abda30"
      },
      "execution_count": null,
      "outputs": [
        {
          "output_type": "stream",
          "name": "stdout",
          "text": [
            "MAESTER_CITADEL - MAESTER_AEMON 0.3920701611834253\n",
            "RAY - GATINS 0.3886464843365491\n",
            "GATINS - BERIC 0.3675791855431439\n",
            "THOROS - GATINS 0.3636591552182033\n",
            "MAESTER_AEMON - GILLY 0.319889623157789\n"
          ]
        }
      ]
    },
    {
      "cell_type": "markdown",
      "source": [
        "**2.B.4 Miscellanea**\n",
        "\n",
        "Энэ нь холбоосыг таамаглахдаа санамсаргүй байдлаар сонгож авдаг.\n",
        "linkpred groups here approaches that are commonly used as baselines.\n",
        "\n",
        "**Random**\n",
        "\n",
        "Санамсаргүй байдлаар таах."
      ],
      "metadata": {
        "id": "sqj08HjJO4Ri"
      }
    },
    {
      "cell_type": "code",
      "source": [
        "rnd = linkpred.predictors.Random(g, excluded=g.edges())\n",
        "rnd_results = rnd.predict()\n",
        "\n",
        "top = simrank_results.top(5)\n",
        "for edge, score in top.items():\n",
        "  print(edge, score)"
      ],
      "metadata": {
        "colab": {
          "base_uri": "https://localhost:8080/"
        },
        "id": "mqQgFu2sMMOB",
        "outputId": "fc3ac4fb-f2ba-41b2-cf1b-25808880ea4d"
      },
      "execution_count": null,
      "outputs": [
        {
          "output_type": "stream",
          "name": "stdout",
          "text": [
            "MAESTER_CITADEL - MAESTER_AEMON 0.3920701611834253\n",
            "RAY - GATINS 0.3886464843365491\n",
            "GATINS - BERIC 0.3675791855431439\n",
            "THOROS - GATINS 0.3636591552182033\n",
            "MAESTER_AEMON - GILLY 0.319889623157789\n"
          ]
        }
      ]
    },
    {
      "cell_type": "markdown",
      "source": [
        "**2.C Ялгаатай таамаглагчидын харьцуулах болон үнэлэх**\n",
        "\n",
        "Холбоосуудыг үүсэх эсэхыг таамаглахдаа бид сургалтын болон тестийн өгөгдлүүдтэй ажиллаж\n",
        "шалгана. Өгөгдлөө сургалтын болон тестийн болгон хуваах шаардлагатай."
      ],
      "metadata": {
        "id": "8Lrrxl0PO_jS"
      }
    },
    {
      "cell_type": "code",
      "source": [
        "import random\n",
        "import itertools\n",
        "from linkpred.evaluation import Pair\n",
        "\n",
        "# Building the test network\n",
        "test = read_net_w(f'/content/got-data/got-s5-edges.csv')\n",
        "\n",
        "# Exclude test network from learning phase\n",
        "training = g.copy()\n",
        "\n",
        " # Node set\n",
        "nodes = list(g.nodes())\n",
        "nodes.extend(list(test.nodes()))\n",
        "# Compute the test set and the universe set\n",
        "test = [Pair(i) for i in test.edges()]\n",
        "universe = set([Pair(i) for i in itertools.product(nodes, nodes) if i[0]!=i[1]])\n"
      ],
      "metadata": {
        "id": "6om-d_ckMWfp"
      },
      "execution_count": null,
      "outputs": []
    },
    {
      "cell_type": "markdown",
      "source": [
        "Дараагаар нь бид сургалтын өгөгдөл дээрээ таамаглагчаа ажиллуулна.\n"
      ],
      "metadata": {
        "id": "MHSVq19dPDmk"
      }
    },
    {
      "cell_type": "code",
      "source": [
        "cn = linkpred.predictors.CommonNeighbours(training, excluded=training.edges())\n",
        "cn_results = cn.predict()\n",
        "\n",
        "aa = linkpred.predictors.AdamicAdar(training, excluded=training.edges())\n",
        "aa_results = aa.predict()\n",
        "\n",
        "jc = linkpred.predictors.Jaccard(training, excluded=training.edges())\n",
        "jc_results = jc.predict()"
      ],
      "metadata": {
        "id": "Lxf2WCWVMo07"
      },
      "execution_count": null,
      "outputs": []
    },
    {
      "cell_type": "markdown",
      "source": [
        "Тэгээд бид тестийн өгөгдлөө ашиглан таамаглагч хэр үнэн таамаглаж буй үнэлнэ."
      ],
      "metadata": {
        "id": "opRIXVg1PE4y"
      }
    },
    {
      "cell_type": "code",
      "source": [
        "cn_evaluation = linkpred.evaluation.EvaluationSheet(cn_results, test, universe)\n",
        "aa_evaluation = linkpred.evaluation.EvaluationSheet(aa_results, test, universe)\n",
        "jc_evaluation = linkpred.evaluation.EvaluationSheet(jc_results, test, universe)"
      ],
      "metadata": {
        "id": "ZXMposhxMuOB"
      },
      "execution_count": null,
      "outputs": []
    },
    {
      "cell_type": "markdown",
      "source": [
        "Үр дүнгүүдээ тайлбарлахдаа бид ROC -ийн муруй ашиглан дүрслэнэ"
      ],
      "metadata": {
        "id": "h6ZMDw6qPGWi"
      }
    },
    {
      "cell_type": "code",
      "source": [
        "plt.plot(cn_evaluation.fallout(), cn_evaluation.recall(), label=\"Common Neighbors\")\n",
        "plt.plot(aa_evaluation.fallout(), aa_evaluation.recall(), label=\"Adamic Adar\")\n",
        "plt.plot(jc_evaluation.fallout(), jc_evaluation.recall(), label=\"Jaccard\")\n",
        "plt.ylabel(\"TPR\")\n",
        "plt.xlabel(\"FPR\")\n",
        "plt.legend()\n",
        "plt.show()"
      ],
      "metadata": {
        "colab": {
          "base_uri": "https://localhost:8080/",
          "height": 449
        },
        "id": "hcEn9K_gMzDo",
        "outputId": "55c3f798-c8b9-41e5-d035-34740a34b642"
      },
      "execution_count": null,
      "outputs": [
        {
          "output_type": "display_data",
          "data": {
            "text/plain": [
              "<Figure size 640x480 with 1 Axes>"
            ],
            "image/png": "[encoded data removed]"
          },
          "metadata": {}
        }
      ]
    },
    {
      "cell_type": "markdown",
      "source": [
        "Үр дүнгээ нэгтгэн тайлбарлах, дүгнэхэд хамгийн тохиромжтой, энгийн арга нь ROC муруй болон үүн\n",
        "дээр AUC бодож үзэх юм.\n"
      ],
      "metadata": {
        "id": "N3JKowv9PIHr"
      }
    },
    {
      "cell_type": "code",
      "source": [
        "from sklearn.metrics import auc\n",
        "\n",
        "print(\"Area Under Roc Curve (AUROC)\")\n",
        "print(f\"Common Neigh.: \\t {auc(cn_evaluation.fallout(), cn_evaluation.recall())}\")\n",
        "print(f\"Adamic Adar: \\t {auc(aa_evaluation.fallout(), aa_evaluation.recall())}\")\n",
        "print(f\"Jaccard: \\t {auc(jc_evaluation.fallout(), jc_evaluation.recall())}\")"
      ],
      "metadata": {
        "colab": {
          "base_uri": "https://localhost:8080/"
        },
        "id": "jxkTH40AM_PC",
        "outputId": "e5dbef90-5cf7-4144-a02c-a6265025f2b8"
      },
      "execution_count": null,
      "outputs": [
        {
          "output_type": "stream",
          "name": "stdout",
          "text": [
            "Area Under Roc Curve (AUROC)\n",
            "Common Neigh.: \t 0.015376333109730609\n",
            "Adamic Adar: \t 0.016201171969940018\n",
            "Jaccard: \t 0.01430571353574241\n"
          ]
        }
      ]
    },
    {
      "cell_type": "markdown",
      "source": [
        "**Даалгавар:**\n",
        "\n",
        "1. Jaccard болон Adamic Adar хоёр яагаад ялгаатай үр дүн үзүүлж байна вэ? Тайлбарлана уу.\n",
        "\n",
        "2. linkpred санг ашиглан desicion tree алгоритмаар холбоосыг илрүүлж болох уу."
      ],
      "metadata": {
        "id": "YBXHpLr9PLb7"
      }
    },
    {
      "cell_type": "markdown",
      "source": [
        "Jaccard болон Adamic-Adar нь хоёулаа link prediction-д хэрэглэгддэг төвлөрсөн бус (local) аргачлалууд боловч тэдний тооцоолох арга өөр өөр учраас үр дүн нь ялгаатай байдаг.\n",
        "\n"
      ],
      "metadata": {
        "id": "y2I3frq-QW-S"
      }
    },
    {
      "cell_type": "markdown",
      "source": [
        "Үгүй. linkpred сан дотор Decision Tree алгоритм бүрэлдэхүүнд байхгүй.\n",
        "\n",
        "🛠 linkpred юу ашигладаг вэ?\n",
        "linkpred нь дараах traditional link prediction heuristics-уудыг ашигладаг:\n",
        "\n",
        "Common Neighbors\n",
        "\n",
        "Jaccard\n",
        "\n",
        "Adamic-Adar\n",
        "\n",
        "Resource Allocation\n",
        "\n",
        "Preferential Attachment\n",
        "\n",
        "Katz\n",
        "\n",
        "Rooted PageRank гэх мэт\n",
        "\n",
        "🍀 Гэхдээ... хэрвээ Decision Tree ашиглахыг хүсвэл яах вэ?\n",
        "Өөрөө dataset бэлдэж:\n",
        "\n",
        "Орой хос бүрийг нэг мөр болгож\n",
        "\n",
        "Граф дотор байгаа эсэхийг “target” болгож\n",
        "\n",
        "Хөршүүдийн тоо, зэрэг (degree), Jaccard score, Adamic-Adar score гэх мэт онцлог (features)-ийг бэлдэж болно.\n",
        "\n",
        "sklearn.tree.DecisionTreeClassifier ашиглан supervised learning хийж болно.\n",
        "\n",
        "from sklearn.tree import DecisionTreeClassifier\n",
        "\n",
        "X = features such as Jaccard, CommonNeighbors, etc.\n",
        "y = 1 if edge exists, 0 otherwise\n",
        "\n",
        "clf = DecisionTreeClassifier()\n",
        "clf.fit(X_train, y_train)\n",
        "y_pred = clf.predict(X_test)\n"
      ],
      "metadata": {
        "id": "AO_9uVqDQeaT"
      }
    },
    {
      "cell_type": "code",
      "source": [
        "from sklearn.tree import DecisionTreeClassifier\n",
        "\n",
        "# X = features such as Jaccard, CommonNeighbors, etc.\n",
        "# y = 1 if edge exists, 0 otherwise\n",
        "\n",
        "clf = DecisionTreeClassifier()\n",
        "clf.fit(X_train, y_train)\n",
        "y_pred = clf.predict(X_test)"
      ],
      "metadata": {
        "id": "z7KhdBOQQau7"
      },
      "execution_count": null,
      "outputs": []
    }
  ]
}