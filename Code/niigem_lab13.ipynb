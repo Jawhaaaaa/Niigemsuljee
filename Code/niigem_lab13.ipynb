{
  "nbformat": 4,
  "nbformat_minor": 0,
  "metadata": {
    "colab": {
      "provenance": []
    },
    "kernelspec": {
      "name": "python3",
      "display_name": "Python 3"
    },
    "language_info": {
      "name": "python"
    }
  },
  "cells": [
    {
      "cell_type": "code",
      "execution_count": 1,
      "metadata": {
        "id": "qelvb3ZGU-32"
      },
      "outputs": [],
      "source": [
        "import pandas as pd\n",
        "from mlxtend.preprocessing import TransactionEncoder\n",
        "from mlxtend.frequent_patterns import apriori\n",
        "from mlxtend.frequent_patterns import association_rules\n",
        "\n",
        "# Example purchase data\n",
        "purchase_data = {\n",
        "    \"person_id\": [101, 101, 101, 202, 202, 202, 202,\n",
        "                  202, 303, 303, 303, 404, 404, 404,],\n",
        "    \"date\": [\"2024-01-01\", \"2024-01-01\", \"2024-01-01\",\n",
        "             \"2024-01-02\", \"2024-01-02\", \"2024-01-03\",\n",
        "             \"2024-01-03\", \"2024-01-03\", \"2024-01-04\",\n",
        "             \"2024-01-04\", \"2024-01-04\", \"2024-01-05\",\n",
        "             \"2024-01-05\", \"2024-01-05\", ],\n",
        "    \"Combined category\": [\"Pizza\", \"Soft Drink\", \"Salad\",\n",
        "                          \"Burger\", \"Fries\", \"Pizza\",\n",
        "                          \"Chicken Wings\", \"Soft Drink\",\n",
        "                          \"Pasta\", \"Wine\", \"Garlic Bread\",\n",
        "                          \"Burger\", \"Soft Drink\", \"Ice Cream\", ]\n",
        "}\n",
        "purchase_df = pd.DataFrame(purchase_data)\n",
        "\n",
        "# Create transactions from purchase data\n",
        "transactions = (\n",
        "    purchase_df\n",
        "    .groupby(\n",
        "    ['person_id', 'date']\n",
        "    )['Combined category']\n",
        "    .apply(list).tolist()\n",
        ")\n"
      ]
    },
    {
      "cell_type": "code",
      "source": [
        "# Initialize transaction encoder\n",
        "te = TransactionEncoder()\n",
        "te_ary = te.fit(transactions).transform(transactions)\n",
        "\n",
        "# Convert to DataFrame\n",
        "df_te = pd.DataFrame(te_ary, columns=te.columns_)\n",
        "\n",
        "# Apply Apriori algorithm with a default minimum support threshold (0.5)\n",
        "frequent_itemsets = apriori(df_te, min_support=0.2, use_colnames=True)\n",
        "\n",
        "# Generate association rules\n",
        "rules = association_rules(frequent_itemsets, metric=\"lift\", min_threshold=1.1)\n",
        "\n",
        "# Create DataFrame for nodes\n",
        "items = set()\n",
        "for itemset in frequent_itemsets['itemsets']:\n",
        "    items.update(itemset)\n",
        "nodes = pd.DataFrame(list(items), columns=[\"Id\"])\n",
        "\n",
        "# Create DataFrame for edges\n",
        "edges = rules[['antecedents', 'consequents', 'support',\n",
        "               'confidence', 'lift']].copy()\n",
        "edges['Source'] = edges['antecedents'].apply(lambda x: ', '.join(list(x)))\n",
        "edges['Target'] = edges['consequents'].apply(lambda x: ', '.join(list(x)))\n",
        "edges = edges.drop(columns=['antecedents', 'consequents'])\n",
        "\n",
        "# Save files to CSV\n",
        "nodes.to_csv(\"nodes.csv\", index=False)\n",
        "edges.to_csv(\"edges.csv\", index=False)\n"
      ],
      "metadata": {
        "id": "aIzduEJVV1MV"
      },
      "execution_count": 2,
      "outputs": []
    }
  ]
}